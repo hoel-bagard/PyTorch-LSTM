{
 "cells": [
  {
   "cell_type": "code",
   "execution_count": 3,
   "metadata": {},
   "outputs": [
    {
     "data": {
      "text/plain": [
       "['visualize_labels.py',\n",
       " 'README.md',\n",
       " 'Untitled.ipynb',\n",
       " 'src',\n",
       " '.gitignore',\n",
       " 'utils',\n",
       " '.ipynb_checkpoints',\n",
       " 'setup.cfg',\n",
       " 'requirements.txt',\n",
       " 'config',\n",
       " '.git',\n",
       " 'train.py']"
      ]
     },
     "execution_count": 3,
     "metadata": {},
     "output_type": "execute_result"
    }
   ],
   "source": [
    "import argparse\n",
    "import os\n",
    "import numpy as np\n",
    "\n",
    "from nvidia.dali.pipeline import Pipeline\n",
    "import nvidia.dali.ops as ops\n",
    "import nvidia.dali.types as types"
   ]
  },
  {
   "cell_type": "code",
   "execution_count": null,
   "metadata": {},
   "outputs": [],
   "source": [
    "\n",
    "sequence_length = 8\n",
    "initial_prefetch_size = 16\n",
    "\n",
    "\n",
    "class VideoPipe(Pipeline):\n",
    "    def __init__(self, batch_size, num_threads, device_id, data, shuffle):\n",
    "        super(VideoPipe, self).__init__(batch_size, num_threads, device_id, seed=16)\n",
    "        self.input = ops.VideoReader(device=\"gpu\", filenames=data, sequence_length=sequence_length,\n",
    "                                     shard_id=0, num_shards=1,\n",
    "                                     random_shuffle=shuffle, initial_fill=initial_prefetch_size)\n",
    "\n",
    "    def define_graph(self):\n",
    "        output = self.input(name=\"Reader\")\n",
    "        return output\n",
    "\n",
    "\n",
    "def main():\n",
    "    parser = argparse.ArgumentParser(\"Displays a video frame by frame\")\n",
    "    parser.add_argument('data_path', help='Path to the video')\n",
    "    args = parser.parse_args()\n",
    "\n",
    "    video_directory = args.data_path\n",
    "    video_files = [video_directory + '/' + f for f in os.listdir(video_directory)]\n",
    "\n",
    "    batch_size = 2\n",
    "    shuffle = True\n",
    "    n_iter = 6\n",
    "\n",
    "    pipe = VideoPipe(batch_size=batch_size, num_threads=2, device_id=0, data=video_files, shuffle=shuffle)\n",
    "    pipe.build()\n",
    "    for i in range(n_iter):\n",
    "        pipe_out = pipe.run()\n",
    "        sequences_out = pipe_out[0].as_cpu().as_array()\n",
    "        print(sequences_out.shape)\n",
    "\n",
    "\n",
    "if __name__ == \"__main__\":\n",
    "    main()\n"
   ]
  }
 ],
 "metadata": {
  "kernelspec": {
   "display_name": "Python 3",
   "language": "python",
   "name": "python3"
  },
  "language_info": {
   "codemirror_mode": {
    "name": "ipython",
    "version": 3
   },
   "file_extension": ".py",
   "mimetype": "text/x-python",
   "name": "python",
   "nbconvert_exporter": "python",
   "pygments_lexer": "ipython3",
   "version": "3.8.6"
  }
 },
 "nbformat": 4,
 "nbformat_minor": 4
}
