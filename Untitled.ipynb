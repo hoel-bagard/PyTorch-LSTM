{
 "cells": [
  {
   "cell_type": "code",
   "execution_count": 2,
   "metadata": {},
   "outputs": [],
   "source": [
    "import argparse\n",
    "import os\n",
    "\n",
    "import cv2\n",
    "import numpy as np\n",
    "from nvidia.dali.pipeline import Pipeline\n",
    "import nvidia.dali.ops as ops\n",
    "import nvidia.dali.types as types\n",
    "import matplotlib.pyplot as plt\n",
    "%matplotlib inline"
   ]
  },
  {
   "cell_type": "code",
   "execution_count": 11,
   "metadata": {},
   "outputs": [
    {
     "name": "stdout",
     "output_type": "stream",
     "text": [
      "(2, 8, 750, 2300, 3)\n",
      "(2, 8, 750, 2300, 3)\n",
      "(2, 8, 750, 2300, 3)\n",
      "(2, 8, 750, 2300, 3)\n",
      "(2, 8, 750, 2300, 3)\n",
      "(2, 8, 750, 2300, 3)\n"
     ]
    },
    {
     "data": {
      "text/plain": [
       "<matplotlib.image.AxesImage at 0x7f59f0ac2ac0>"
      ]
     },
     "execution_count": 11,
     "metadata": {},
     "output_type": "execute_result"
    },
    {
     "data": {
      "image/png": "[encoded data removed]",
      "text/plain": [
       "<Figure size 432x288 with 1 Axes>"
      ]
     },
     "metadata": {
      "needs_background": "light"
     },
     "output_type": "display_data"
    }
   ],
   "source": [
    "video_directory = \"../data/temp/Shaker/\"\n",
    "video_files = [video_directory + '/' + f for f in os.listdir(video_directory)]\n",
    "\n",
    "sequence_length = 8\n",
    "initial_prefetch_size = 16\n",
    "batch_size = 2\n",
    "shuffle = True\n",
    "n_iter = 6\n",
    "\n",
    "\n",
    "class VideoPipe(Pipeline):\n",
    "    def __init__(self, batch_size, num_threads, device_id, data, shuffle):\n",
    "        super(VideoPipe, self).__init__(batch_size, num_threads, device_id, seed=16)\n",
    "        self.input = ops.VideoReader(device=\"gpu\", filenames=data, sequence_length=sequence_length,\n",
    "                                     shard_id=0, num_shards=1,\n",
    "                                     random_shuffle=shuffle, initial_fill=initial_prefetch_size)\n",
    "\n",
    "    def define_graph(self):\n",
    "        output = self.input(name=\"Reader\")\n",
    "        return output\n",
    "    \n",
    "\n",
    "pipe = VideoPipe(batch_size=batch_size, num_threads=2, device_id=0, data=video_files, shuffle=shuffle)\n",
    "pipe.build()\n",
    "for i in range(n_iter):\n",
    "    pipe_out = pipe.run()\n",
    "    sequences_out = pipe_out[0].as_cpu().as_array()\n",
    "    print(sequences_out.shape)\n",
    "    \n",
    "plt.axis(\"off\")\n",
    "plt.imshow(sequences_out[0][0])"
   ]
  },
  {
   "cell_type": "code",
   "execution_count": null,
   "metadata": {},
   "outputs": [],
   "source": [
    "\n"
   ]
  },
  {
   "cell_type": "code",
   "execution_count": null,
   "metadata": {},
   "outputs": [],
   "source": [
    "\n"
   ]
  },
  {
   "cell_type": "code",
   "execution_count": 8,
   "metadata": {},
   "outputs": [
    {
     "ename": "NameError",
     "evalue": "name 'args' is not defined",
     "output_type": "error",
     "traceback": [
      "\u001b[0;31m---------------------------------------------------------------------------\u001b[0m",
      "\u001b[0;31mNameError\u001b[0m                                 Traceback (most recent call last)",
      "\u001b[0;32m<ipython-input-8-cfcee1bede59>\u001b[0m in \u001b[0;36m<module>\u001b[0;34m\u001b[0m\n\u001b[1;32m     37\u001b[0m         \u001b[0;32mreturn\u001b[0m \u001b[0mself\u001b[0m\u001b[0;34m.\u001b[0m\u001b[0mdali_iterator\u001b[0m\u001b[0;34m.\u001b[0m\u001b[0m__iter__\u001b[0m\u001b[0;34m(\u001b[0m\u001b[0;34m)\u001b[0m\u001b[0;34m\u001b[0m\u001b[0;34m\u001b[0m\u001b[0m\n\u001b[1;32m     38\u001b[0m \u001b[0;34m\u001b[0m\u001b[0m\n\u001b[0;32m---> 39\u001b[0;31m loader = DALILoader(args.batchsize,\n\u001b[0m\u001b[1;32m     40\u001b[0m     \u001b[0mos\u001b[0m\u001b[0;34m.\u001b[0m\u001b[0mpath\u001b[0m\u001b[0;34m.\u001b[0m\u001b[0mjoin\u001b[0m\u001b[0;34m(\u001b[0m\u001b[0margs\u001b[0m\u001b[0;34m.\u001b[0m\u001b[0mroot\u001b[0m\u001b[0;34m,\u001b[0m \u001b[0mds_type\u001b[0m\u001b[0;34m)\u001b[0m\u001b[0;34m,\u001b[0m\u001b[0;34m\u001b[0m\u001b[0;34m\u001b[0m\u001b[0m\n\u001b[1;32m     41\u001b[0m     \u001b[0margs\u001b[0m\u001b[0;34m.\u001b[0m\u001b[0mframes\u001b[0m\u001b[0;34m,\u001b[0m\u001b[0;34m\u001b[0m\u001b[0;34m\u001b[0m\u001b[0m\n",
      "\u001b[0;31mNameError\u001b[0m: name 'args' is not defined"
     ]
    }
   ],
   "source": [
    "class VideoReaderPipeline(Pipeline):\n",
    "    def __init__(self, batch_size, sequence_length, num_threads, device_id, files, crop_size):\n",
    "        super(VideoReaderPipeline, self).__init__(batch_size, num_threads, device_id, seed=12)\n",
    "        self.reader = ops.VideoReader(device=\"gpu\", filenames=files, sequence_length=sequence_length,\n",
    "                                     normalized=False, random_shuffle=True, image_type=types.RGB,\n",
    "                                     dtype=types.UINT8, initial_fill=16, pad_last_batch=True)\n",
    "        self.crop = ops.Crop(device=\"gpu\", crop=crop_size, dtype=types.FLOAT)\n",
    "        self.uniform = ops.Uniform(range=(0.0, 1.0))\n",
    "        self.transpose = ops.Transpose(device=\"gpu\", perm=[3, 0, 1, 2])\n",
    "\n",
    "    def define_graph(self):\n",
    "        input = self.reader(name=\"Reader\")\n",
    "        cropped = self.crop(input, crop_pos_x=self.uniform(), crop_pos_y=self.uniform())\n",
    "        output = self.transpose(cropped)\n",
    "        return output\n",
    "\n",
    "class DALILoader():\n",
    "    def __init__(self, batch_size, file_root, sequence_length, crop_size):\n",
    "        container_files = os.listdir(file_root)\n",
    "        container_files = [file_root + '/' + f for f in container_files]\n",
    "        self.pipeline = VideoReaderPipeline(batch_size=batch_size,\n",
    "                                            sequence_length=sequence_length,\n",
    "                                            num_threads=2,\n",
    "                                            device_id=0,\n",
    "                                            files=container_files,\n",
    "                                            crop_size=crop_size)\n",
    "        self.pipeline.build()\n",
    "        self.epoch_size = self.pipeline.epoch_size(\"Reader\")\n",
    "        self.dali_iterator = pytorch.DALIGenericIterator(self.pipeline,\n",
    "                                                         [\"data\"],\n",
    "                                                         reader_name=\"Reader\",\n",
    "                                                         fill_last_batch=False,\n",
    "                                                         auto_reset=True)\n",
    "    def __len__(self):\n",
    "        return int(self.epoch_size)\n",
    "    def __iter__(self):\n",
    "        return self.dali_iterator.__iter__()\n",
    "\n",
    "loader = DALILoader(args.batchsize,\n",
    "    os.path.join(video_directory, ds_type),\n",
    "    args.frames,\n",
    "    args.crop_size)\n"
   ]
  },
  {
   "cell_type": "code",
   "execution_count": null,
   "metadata": {},
   "outputs": [],
   "source": []
  }
 ],
 "metadata": {
  "kernelspec": {
   "display_name": "Python 3",
   "language": "python",
   "name": "python3"
  },
  "language_info": {
   "codemirror_mode": {
    "name": "ipython",
    "version": 3
   },
   "file_extension": ".py",
   "mimetype": "text/x-python",
   "name": "python",
   "nbconvert_exporter": "python",
   "pygments_lexer": "ipython3",
   "version": "3.8.6"
  }
 },
 "nbformat": 4,
 "nbformat_minor": 4
}
